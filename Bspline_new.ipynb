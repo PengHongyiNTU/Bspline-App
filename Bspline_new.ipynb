{
 "cells": [
  {
   "cell_type": "code",
   "execution_count": 1,
   "metadata": {},
   "outputs": [],
   "source": [
    "import numpy as np\n",
    "def chord_length_parameterization(D):\n",
    "    t = np.zeros(len(D))\n",
    "    for i in range(1, len(D)):\n",
    "        t[i] = np.linalg.norm(D[i] - D[i-1])\n",
    "    t = t.cumsum()\n",
    "    t = t / t[-1]\n",
    "    assert t[0] == 0 and t[-1] == 1\n",
    "    return t"
   ]
  },
  {
   "cell_type": "code",
   "execution_count": 2,
   "metadata": {},
   "outputs": [],
   "source": [
    "def insert_dummy(t, k):\n",
    "    T = np.insert(t, 0, [0]*k)\n",
    "    T = np.append(T, [1]*k)\n",
    "    return T"
   ]
  },
  {
   "cell_type": "code",
   "execution_count": 4,
   "metadata": {},
   "outputs": [],
   "source": [
    "def B(u, i, k, T):\n",
    "    if k == 0:\n",
    "        if T[i] <= u < T[i+1]:\n",
    "            return 1.0\n",
    "        else:\n",
    "            return 0.0\n",
    "    if T[i+k] == T[i]:\n",
    "        c1 = 0.0\n",
    "    else:\n",
    "        c1 = (u - T[i]) / (T[i+k] - T[i]) * B(u, i, k-1, T)\n",
    "    if T[i+k+1] == T[i+1]:\n",
    "        c2 = 0.0\n",
    "    else:\n",
    "        c2 = (T[i+k+1] - u) / (T[i+k+1] - T[i+1]) * B(u, i+1, k-1, T)\n",
    "    return c1+c2"
   ]
  },
  {
   "cell_type": "code",
   "execution_count": 5,
   "metadata": {},
   "outputs": [],
   "source": [
    "def derivative(t, func, *args, **kwargs):\n",
    "    dt = 1e-6\n",
    "    dy = (func(t + dt, *args, **kwargs) - func(t, *args, **kwargs))\n",
    "    return dy/dt\n",
    "def second_derivative(t, func, *args, **kwargs):\n",
    "    dt = 1e-6\n",
    "    dy = derivative(t+dt, func, *args, **kwargs) - derivative(t, func, *args, **kwargs)\n",
    "    return dy/dt"
   ]
  },
  {
   "cell_type": "code",
   "execution_count": 6,
   "metadata": {},
   "outputs": [],
   "source": [
    "x = [0, 0, 2, 2, 4]\n",
    "y = [0, 2, 2, 0, 0]\n",
    "D = np.stack((x, y), axis=1)\n",
    "k = 3\n",
    "t =  chord_length_parameterization(D)\n",
    "T = insert_dummy(t, k)"
   ]
  },
  {
   "cell_type": "code",
   "execution_count": 7,
   "metadata": {},
   "outputs": [
    {
     "data": {
      "text/plain": [
       "95.99965267170774"
      ]
     },
     "execution_count": 7,
     "metadata": {},
     "output_type": "execute_result"
    }
   ],
   "source": [
    "second_derivative(t[0], B, 0, 3, T)"
   ]
  },
  {
   "cell_type": "code",
   "execution_count": 8,
   "metadata": {},
   "outputs": [
    {
     "data": {
      "text/plain": [
       "-143.99932800479576"
      ]
     },
     "execution_count": 8,
     "metadata": {},
     "output_type": "execute_result"
    }
   ],
   "source": [
    "second_derivative(t[0], B, 1, 3, T)"
   ]
  },
  {
   "cell_type": "code",
   "execution_count": 9,
   "metadata": {},
   "outputs": [
    {
     "data": {
      "text/plain": [
       "47.999648"
      ]
     },
     "execution_count": 9,
     "metadata": {},
     "output_type": "execute_result"
    }
   ],
   "source": [
    "second_derivative(t[0], B, 2, 3, T)"
   ]
  },
  {
   "cell_type": "code",
   "execution_count": 10,
   "metadata": {},
   "outputs": [],
   "source": [
    "n =len(D)-1"
   ]
  },
  {
   "cell_type": "code",
   "execution_count": 11,
   "metadata": {},
   "outputs": [
    {
     "data": {
      "text/plain": [
       "47.99683200276103"
      ]
     },
     "execution_count": 11,
     "metadata": {},
     "output_type": "execute_result"
    }
   ],
   "source": [
    "OFFSET = 1e-5\n",
    "second_derivative(t[n]-OFFSET, B, n, 3, T)"
   ]
  },
  {
   "cell_type": "code",
   "execution_count": 12,
   "metadata": {},
   "outputs": [
    {
     "data": {
      "text/plain": [
       "-143.99395200292986"
      ]
     },
     "execution_count": 12,
     "metadata": {},
     "output_type": "execute_result"
    }
   ],
   "source": [
    "second_derivative(t[n]-OFFSET, B, n+1, 3, T)"
   ]
  },
  {
   "cell_type": "code",
   "execution_count": 13,
   "metadata": {},
   "outputs": [
    {
     "data": {
      "text/plain": [
       "95.99665506954125"
      ]
     },
     "execution_count": 13,
     "metadata": {},
     "output_type": "execute_result"
    }
   ],
   "source": [
    "second_derivative(t[n]-OFFSET, B, n+2, 3, T)"
   ]
  },
  {
   "cell_type": "code",
   "execution_count": 14,
   "metadata": {},
   "outputs": [
    {
     "data": {
      "text/plain": [
       "array([0.  , 0.25, 0.5 , 0.75, 1.  ])"
      ]
     },
     "execution_count": 14,
     "metadata": {},
     "output_type": "execute_result"
    }
   ],
   "source": [
    "t"
   ]
  },
  {
   "cell_type": "code",
   "execution_count": 15,
   "metadata": {},
   "outputs": [],
   "source": [
    "def get_N(k, t, T):\n",
    "    n = len(t)-1\n",
    "    N = np.zeros((n+3, n+3))\n",
    "    for i in range(2, n+1):\n",
    "        for j in range(i-1, i+2):\n",
    "            N[i, j] = B(t[i-1], j, k, T)\n",
    "            # print(f'N[{i}, {j}] = {N[i, j]}')\n",
    "    N[0, 0] = 1.0\n",
    "    N[n+2, n+2] = 1.0\n",
    "    for i in range(0, 3):\n",
    "        N[1, i] = second_derivative(t[0], B, i, k, T)\n",
    "    for i in range(n, n+3):\n",
    "        N[n+1, i] = second_derivative(t[n]-1e-5, B, i, k, T)\n",
    "    return N"
   ]
  },
  {
   "cell_type": "code",
   "execution_count": 16,
   "metadata": {},
   "outputs": [],
   "source": [
    "def get_D(x, y):\n",
    "    D = np.stack((x, y), axis=1)\n",
    "    D = np.insert(D, 1, [0, 0], axis=0)\n",
    "    D = np.insert(D, len(D)-1, [0, 0], axis=0)\n",
    "    return D"
   ]
  },
  {
   "cell_type": "code",
   "execution_count": 17,
   "metadata": {},
   "outputs": [
    {
     "name": "stdout",
     "output_type": "stream",
     "text": [
      "[[   1.            0.            0.            0.            0.\n",
      "     0.            0.        ]\n",
      " [  95.99965267 -143.999328     47.999648      0.            0.\n",
      "     0.            0.        ]\n",
      " [   0.            0.25          0.58333333    0.16666667    0.\n",
      "     0.            0.        ]\n",
      " [   0.            0.            0.16666667    0.66666667    0.16666667\n",
      "     0.            0.        ]\n",
      " [   0.            0.            0.            0.16666667    0.58333333\n",
      "     0.25          0.        ]\n",
      " [   0.            0.            0.            0.           47.996832\n",
      "  -143.993952     95.99665507]\n",
      " [   0.            0.            0.            0.            0.\n",
      "     0.            1.        ]]\n"
     ]
    }
   ],
   "source": [
    "N = get_N(k, t, T)\n",
    "print(N)"
   ]
  },
  {
   "cell_type": "code",
   "execution_count": 18,
   "metadata": {},
   "outputs": [],
   "source": [
    "D = get_D(x, y)"
   ]
  },
  {
   "cell_type": "code",
   "execution_count": 25,
   "metadata": {},
   "outputs": [
    {
     "name": "stdout",
     "output_type": "stream",
     "text": [
      "[[ 0.          0.        ]\n",
      " [-0.23809477  0.78571243]\n",
      " [-0.71428621  2.35714356]\n",
      " [ 2.85714387  2.5714289 ]\n",
      " [ 1.28571073 -0.64285915]\n",
      " [ 3.09524571 -0.21428124]\n",
      " [ 4.          0.        ]]\n"
     ]
    }
   ],
   "source": [
    "from numpy.linalg import solve\n",
    "P = solve(N, D)\n",
    "print(P)"
   ]
  },
  {
   "cell_type": "code",
   "execution_count": 26,
   "metadata": {},
   "outputs": [],
   "source": [
    "def bspline(u, P, k, T):\n",
    "    n = len(T) - k -1\n",
    "    assert (n >= k+1) and (len(P)>=n)\n",
    "    return sum(P[i]*B(u, i, k, T) for i in range(n))"
   ]
  },
  {
   "cell_type": "code",
   "execution_count": 27,
   "metadata": {},
   "outputs": [],
   "source": [
    "curve = np.array([bspline(x, P, 3, T) for x in np.arange(0, 1, 0.01)])"
   ]
  },
  {
   "cell_type": "code",
   "execution_count": 33,
   "metadata": {},
   "outputs": [
    {
     "data": {
      "image/png": "[encoded data removed]",
      "image/svg+xml": "<?xml version=\"1.0\" encoding=\"utf-8\" standalone=\"no\"?>\n<!DOCTYPE svg PUBLIC \"-//W3C//DTD SVG 1.1//EN\"\n  \"http://www.w3.org/Graphics/SVG/1.1/DTD/svg11.dtd\">\n<svg xmlns:xlink=\"http://www.w3.org/1999/xlink\" width=\"380.482813pt\" height=\"263.63625pt\" viewBox=\"0 0 380.482813 263.63625\" xmlns=\"http://www.w3.org/2000/svg\" version=\"1.1\">\n <metadata>\n  <rdf:RDF xmlns:dc=\"http://purl.org/dc/elements/1.1/\" xmlns:cc=\"http://creativecommons.org/ns#\" xmlns:rdf=\"http://www.w3.org/1999/02/22-rdf-syntax-ns#\">\n   <cc:Work>\n    <dc:type rdf:resource=\"http://purl.org/dc/dcmitype/StillImage\"/>\n    <dc:date>2022-04-16T17:34:34.828193</dc:date>\n    <dc:format>image/svg+xml</dc:format>\n    <dc:creator>\n     <cc:Agent>\n      <dc:title>Matplotlib v3.5.1, https://matplotlib.org/</dc:title>\n     </cc:Agent>\n    </dc:creator>\n   </cc:Work>\n  </rdf:RDF>\n </metadata>\n <defs>\n  <style type=\"text/css\">*{stroke-linejoin: round; stroke-linecap: butt}</style>\n </defs>\n <g id=\"figure_1\">\n  <g id=\"patch_1\">\n   <path d=\"M -0 263.63625 \nL 380.482813 263.63625 \nL 380.482813 0 \nL -0 0 \nL -0 263.63625 \nz\n\" style=\"fill: none\"/>\n  </g>\n  <g id=\"axes_1\">\n   <g id=\"patch_2\">\n    <path d=\"M 38.482813 239.758125 \nL 373.282813 239.758125 \nL 373.282813 22.318125 \nL 38.482813 22.318125 \nz\n\" style=\"fill: #ffffff\"/>\n   </g>\n   <g id=\"PathCollection_1\">\n    <defs>\n     <path id=\"m5393b7f237\" d=\"M 0 4.472136 \nC 1.186024 4.472136 2.323632 4.000923 3.162278 3.162278 \nC 4.000923 2.323632 4.472136 1.186024 4.472136 0 \nC 4.472136 -1.186024 4.000923 -2.323632 3.162278 -3.162278 \nC 2.323632 -4.000923 1.186024 -4.472136 0 -4.472136 \nC -1.186024 -4.472136 -2.323632 -4.000923 -3.162278 -3.162278 \nC -4.000923 -2.323632 -4.472136 -1.186024 -4.472136 0 \nC -4.472136 1.186024 -4.000923 2.323632 -3.162278 3.162278 \nC -2.323632 4.000923 -1.186024 4.472136 0 4.472136 \nz\n\" style=\"stroke: #ff0000\"/>\n    </defs>\n    <g clip-path=\"url(#pb4e3227a09)\">\n     <use xlink:href=\"#m5393b7f237\" x=\"99.816724\" y=\"190.339848\" style=\"fill: #ff0000; stroke: #ff0000\"/>\n     <use xlink:href=\"#m5393b7f237\" x=\"99.816724\" y=\"67.343574\" style=\"fill: #ff0000; stroke: #ff0000\"/>\n     <use xlink:href=\"#m5393b7f237\" x=\"228.940677\" y=\"67.343574\" style=\"fill: #ff0000; stroke: #ff0000\"/>\n     <use xlink:href=\"#m5393b7f237\" x=\"228.940677\" y=\"190.339848\" style=\"fill: #ff0000; stroke: #ff0000\"/>\n     <use xlink:href=\"#m5393b7f237\" x=\"358.064631\" y=\"190.339848\" style=\"fill: #ff0000; stroke: #ff0000\"/>\n    </g>\n   </g>\n   <g id=\"matplotlib.axis_1\">\n    <g id=\"xtick_1\">\n     <g id=\"line2d_1\">\n      <defs>\n       <path id=\"m7aa95eb17c\" d=\"M 0 0 \nL 0 3.5 \n\" style=\"stroke: #000000; stroke-width: 0.8\"/>\n      </defs>\n      <g>\n       <use xlink:href=\"#m7aa95eb17c\" x=\"99.816724\" y=\"239.758125\" style=\"stroke: #000000; stroke-width: 0.8\"/>\n      </g>\n     </g>\n     <g id=\"text_1\">\n      <!-- 0 -->\n      <g transform=\"translate(96.635474 254.356563)scale(0.1 -0.1)\">\n       <defs>\n        <path id=\"DejaVuSans-30\" d=\"M 2034 4250 \nQ 1547 4250 1301 3770 \nQ 1056 3291 1056 2328 \nQ 1056 1369 1301 889 \nQ 1547 409 2034 409 \nQ 2525 409 2770 889 \nQ 3016 1369 3016 2328 \nQ 3016 3291 2770 3770 \nQ 2525 4250 2034 4250 \nz\nM 2034 4750 \nQ 2819 4750 3233 4129 \nQ 3647 3509 3647 2328 \nQ 3647 1150 3233 529 \nQ 2819 -91 2034 -91 \nQ 1250 -91 836 529 \nQ 422 1150 422 2328 \nQ 422 3509 836 4129 \nQ 1250 4750 2034 4750 \nz\n\" transform=\"scale(0.015625)\"/>\n       </defs>\n       <use xlink:href=\"#DejaVuSans-30\"/>\n      </g>\n     </g>\n    </g>\n    <g id=\"xtick_2\">\n     <g id=\"line2d_2\">\n      <g>\n       <use xlink:href=\"#m7aa95eb17c\" x=\"164.3787\" y=\"239.758125\" style=\"stroke: #000000; stroke-width: 0.8\"/>\n      </g>\n     </g>\n     <g id=\"text_2\">\n      <!-- 1 -->\n      <g transform=\"translate(161.19745 254.356563)scale(0.1 -0.1)\">\n       <defs>\n        <path id=\"DejaVuSans-31\" d=\"M 794 531 \nL 1825 531 \nL 1825 4091 \nL 703 3866 \nL 703 4441 \nL 1819 4666 \nL 2450 4666 \nL 2450 531 \nL 3481 531 \nL 3481 0 \nL 794 0 \nL 794 531 \nz\n\" transform=\"scale(0.015625)\"/>\n       </defs>\n       <use xlink:href=\"#DejaVuSans-31\"/>\n      </g>\n     </g>\n    </g>\n    <g id=\"xtick_3\">\n     <g id=\"line2d_3\">\n      <g>\n       <use xlink:href=\"#m7aa95eb17c\" x=\"228.940677\" y=\"239.758125\" style=\"stroke: #000000; stroke-width: 0.8\"/>\n      </g>\n     </g>\n     <g id=\"text_3\">\n      <!-- 2 -->\n      <g transform=\"translate(225.759427 254.356563)scale(0.1 -0.1)\">\n       <defs>\n        <path id=\"DejaVuSans-32\" d=\"M 1228 531 \nL 3431 531 \nL 3431 0 \nL 469 0 \nL 469 531 \nQ 828 903 1448 1529 \nQ 2069 2156 2228 2338 \nQ 2531 2678 2651 2914 \nQ 2772 3150 2772 3378 \nQ 2772 3750 2511 3984 \nQ 2250 4219 1831 4219 \nQ 1534 4219 1204 4116 \nQ 875 4013 500 3803 \nL 500 4441 \nQ 881 4594 1212 4672 \nQ 1544 4750 1819 4750 \nQ 2544 4750 2975 4387 \nQ 3406 4025 3406 3419 \nQ 3406 3131 3298 2873 \nQ 3191 2616 2906 2266 \nQ 2828 2175 2409 1742 \nQ 1991 1309 1228 531 \nz\n\" transform=\"scale(0.015625)\"/>\n       </defs>\n       <use xlink:href=\"#DejaVuSans-32\"/>\n      </g>\n     </g>\n    </g>\n    <g id=\"xtick_4\">\n     <g id=\"line2d_4\">\n      <g>\n       <use xlink:href=\"#m7aa95eb17c\" x=\"293.502654\" y=\"239.758125\" style=\"stroke: #000000; stroke-width: 0.8\"/>\n      </g>\n     </g>\n     <g id=\"text_4\">\n      <!-- 3 -->\n      <g transform=\"translate(290.321404 254.356563)scale(0.1 -0.1)\">\n       <defs>\n        <path id=\"DejaVuSans-33\" d=\"M 2597 2516 \nQ 3050 2419 3304 2112 \nQ 3559 1806 3559 1356 \nQ 3559 666 3084 287 \nQ 2609 -91 1734 -91 \nQ 1441 -91 1130 -33 \nQ 819 25 488 141 \nL 488 750 \nQ 750 597 1062 519 \nQ 1375 441 1716 441 \nQ 2309 441 2620 675 \nQ 2931 909 2931 1356 \nQ 2931 1769 2642 2001 \nQ 2353 2234 1838 2234 \nL 1294 2234 \nL 1294 2753 \nL 1863 2753 \nQ 2328 2753 2575 2939 \nQ 2822 3125 2822 3475 \nQ 2822 3834 2567 4026 \nQ 2313 4219 1838 4219 \nQ 1578 4219 1281 4162 \nQ 984 4106 628 3988 \nL 628 4550 \nQ 988 4650 1302 4700 \nQ 1616 4750 1894 4750 \nQ 2613 4750 3031 4423 \nQ 3450 4097 3450 3541 \nQ 3450 3153 3228 2886 \nQ 3006 2619 2597 2516 \nz\n\" transform=\"scale(0.015625)\"/>\n       </defs>\n       <use xlink:href=\"#DejaVuSans-33\"/>\n      </g>\n     </g>\n    </g>\n    <g id=\"xtick_5\">\n     <g id=\"line2d_5\">\n      <g>\n       <use xlink:href=\"#m7aa95eb17c\" x=\"358.064631\" y=\"239.758125\" style=\"stroke: #000000; stroke-width: 0.8\"/>\n      </g>\n     </g>\n     <g id=\"text_5\">\n      <!-- 4 -->\n      <g transform=\"translate(354.883381 254.356563)scale(0.1 -0.1)\">\n       <defs>\n        <path id=\"DejaVuSans-34\" d=\"M 2419 4116 \nL 825 1625 \nL 2419 1625 \nL 2419 4116 \nz\nM 2253 4666 \nL 3047 4666 \nL 3047 1625 \nL 3713 1625 \nL 3713 1100 \nL 3047 1100 \nL 3047 0 \nL 2419 0 \nL 2419 1100 \nL 313 1100 \nL 313 1709 \nL 2253 4666 \nz\n\" transform=\"scale(0.015625)\"/>\n       </defs>\n       <use xlink:href=\"#DejaVuSans-34\"/>\n      </g>\n     </g>\n    </g>\n   </g>\n   <g id=\"matplotlib.axis_2\">\n    <g id=\"ytick_1\">\n     <g id=\"line2d_6\">\n      <defs>\n       <path id=\"mc3e9d9c908\" d=\"M 0 0 \nL -3.5 0 \n\" style=\"stroke: #000000; stroke-width: 0.8\"/>\n      </defs>\n      <g>\n       <use xlink:href=\"#mc3e9d9c908\" x=\"38.482813\" y=\"221.088917\" style=\"stroke: #000000; stroke-width: 0.8\"/>\n      </g>\n     </g>\n     <g id=\"text_6\">\n      <!-- −0.5 -->\n      <g transform=\"translate(7.2 224.888136)scale(0.1 -0.1)\">\n       <defs>\n        <path id=\"DejaVuSans-2212\" d=\"M 678 2272 \nL 4684 2272 \nL 4684 1741 \nL 678 1741 \nL 678 2272 \nz\n\" transform=\"scale(0.015625)\"/>\n        <path id=\"DejaVuSans-2e\" d=\"M 684 794 \nL 1344 794 \nL 1344 0 \nL 684 0 \nL 684 794 \nz\n\" transform=\"scale(0.015625)\"/>\n        <path id=\"DejaVuSans-35\" d=\"M 691 4666 \nL 3169 4666 \nL 3169 4134 \nL 1269 4134 \nL 1269 2991 \nQ 1406 3038 1543 3061 \nQ 1681 3084 1819 3084 \nQ 2600 3084 3056 2656 \nQ 3513 2228 3513 1497 \nQ 3513 744 3044 326 \nQ 2575 -91 1722 -91 \nQ 1428 -91 1123 -41 \nQ 819 9 494 109 \nL 494 744 \nQ 775 591 1075 516 \nQ 1375 441 1709 441 \nQ 2250 441 2565 725 \nQ 2881 1009 2881 1497 \nQ 2881 1984 2565 2268 \nQ 2250 2553 1709 2553 \nQ 1456 2553 1204 2497 \nQ 953 2441 691 2322 \nL 691 4666 \nz\n\" transform=\"scale(0.015625)\"/>\n       </defs>\n       <use xlink:href=\"#DejaVuSans-2212\"/>\n       <use xlink:href=\"#DejaVuSans-30\" x=\"83.789062\"/>\n       <use xlink:href=\"#DejaVuSans-2e\" x=\"147.412109\"/>\n       <use xlink:href=\"#DejaVuSans-35\" x=\"179.199219\"/>\n      </g>\n     </g>\n    </g>\n    <g id=\"ytick_2\">\n     <g id=\"line2d_7\">\n      <g>\n       <use xlink:href=\"#mc3e9d9c908\" x=\"38.482813\" y=\"190.339848\" style=\"stroke: #000000; stroke-width: 0.8\"/>\n      </g>\n     </g>\n     <g id=\"text_7\">\n      <!-- 0.0 -->\n      <g transform=\"translate(15.579688 194.139067)scale(0.1 -0.1)\">\n       <use xlink:href=\"#DejaVuSans-30\"/>\n       <use xlink:href=\"#DejaVuSans-2e\" x=\"63.623047\"/>\n       <use xlink:href=\"#DejaVuSans-30\" x=\"95.410156\"/>\n      </g>\n     </g>\n    </g>\n    <g id=\"ytick_3\">\n     <g id=\"line2d_8\">\n      <g>\n       <use xlink:href=\"#mc3e9d9c908\" x=\"38.482813\" y=\"159.59078\" style=\"stroke: #000000; stroke-width: 0.8\"/>\n      </g>\n     </g>\n     <g id=\"text_8\">\n      <!-- 0.5 -->\n      <g transform=\"translate(15.579688 163.389998)scale(0.1 -0.1)\">\n       <use xlink:href=\"#DejaVuSans-30\"/>\n       <use xlink:href=\"#DejaVuSans-2e\" x=\"63.623047\"/>\n       <use xlink:href=\"#DejaVuSans-35\" x=\"95.410156\"/>\n      </g>\n     </g>\n    </g>\n    <g id=\"ytick_4\">\n     <g id=\"line2d_9\">\n      <g>\n       <use xlink:href=\"#mc3e9d9c908\" x=\"38.482813\" y=\"128.841711\" style=\"stroke: #000000; stroke-width: 0.8\"/>\n      </g>\n     </g>\n     <g id=\"text_9\">\n      <!-- 1.0 -->\n      <g transform=\"translate(15.579688 132.64093)scale(0.1 -0.1)\">\n       <use xlink:href=\"#DejaVuSans-31\"/>\n       <use xlink:href=\"#DejaVuSans-2e\" x=\"63.623047\"/>\n       <use xlink:href=\"#DejaVuSans-30\" x=\"95.410156\"/>\n      </g>\n     </g>\n    </g>\n    <g id=\"ytick_5\">\n     <g id=\"line2d_10\">\n      <g>\n       <use xlink:href=\"#mc3e9d9c908\" x=\"38.482813\" y=\"98.092643\" style=\"stroke: #000000; stroke-width: 0.8\"/>\n      </g>\n     </g>\n     <g id=\"text_10\">\n      <!-- 1.5 -->\n      <g transform=\"translate(15.579688 101.891861)scale(0.1 -0.1)\">\n       <use xlink:href=\"#DejaVuSans-31\"/>\n       <use xlink:href=\"#DejaVuSans-2e\" x=\"63.623047\"/>\n       <use xlink:href=\"#DejaVuSans-35\" x=\"95.410156\"/>\n      </g>\n     </g>\n    </g>\n    <g id=\"ytick_6\">\n     <g id=\"line2d_11\">\n      <g>\n       <use xlink:href=\"#mc3e9d9c908\" x=\"38.482813\" y=\"67.343574\" style=\"stroke: #000000; stroke-width: 0.8\"/>\n      </g>\n     </g>\n     <g id=\"text_11\">\n      <!-- 2.0 -->\n      <g transform=\"translate(15.579688 71.142793)scale(0.1 -0.1)\">\n       <use xlink:href=\"#DejaVuSans-32\"/>\n       <use xlink:href=\"#DejaVuSans-2e\" x=\"63.623047\"/>\n       <use xlink:href=\"#DejaVuSans-30\" x=\"95.410156\"/>\n      </g>\n     </g>\n    </g>\n    <g id=\"ytick_7\">\n     <g id=\"line2d_12\">\n      <g>\n       <use xlink:href=\"#mc3e9d9c908\" x=\"38.482813\" y=\"36.594506\" style=\"stroke: #000000; stroke-width: 0.8\"/>\n      </g>\n     </g>\n     <g id=\"text_12\">\n      <!-- 2.5 -->\n      <g transform=\"translate(15.579688 40.393724)scale(0.1 -0.1)\">\n       <use xlink:href=\"#DejaVuSans-32\"/>\n       <use xlink:href=\"#DejaVuSans-2e\" x=\"63.623047\"/>\n       <use xlink:href=\"#DejaVuSans-35\" x=\"95.410156\"/>\n      </g>\n     </g>\n    </g>\n   </g>\n   <g id=\"line2d_13\">\n    <path d=\"M 99.816724 190.339848 \nL 84.444855 142.019998 \nL 53.700994 45.37991 \nL 284.27958 32.201761 \nL 182.82475 229.874489 \nL 299.651905 203.517745 \nL 358.064631 190.339848 \n\" clip-path=\"url(#pb4e3227a09)\" style=\"fill: none; stroke-dasharray: 5.55,2.4; stroke-dashoffset: 0; stroke: #000000; stroke-width: 1.5\"/>\n    <defs>\n     <path id=\"m5c35631a99\" d=\"M -2.5 2.5 \nL 2.5 2.5 \nL 2.5 -2.5 \nL -2.5 -2.5 \nz\n\" style=\"stroke: #000000; stroke-linejoin: miter\"/>\n    </defs>\n    <g clip-path=\"url(#pb4e3227a09)\">\n     <use xlink:href=\"#m5c35631a99\" x=\"99.816724\" y=\"190.339848\" style=\"stroke: #000000; stroke-linejoin: miter\"/>\n     <use xlink:href=\"#m5c35631a99\" x=\"84.444855\" y=\"142.019998\" style=\"stroke: #000000; stroke-linejoin: miter\"/>\n     <use xlink:href=\"#m5c35631a99\" x=\"53.700994\" y=\"45.37991\" style=\"stroke: #000000; stroke-linejoin: miter\"/>\n     <use xlink:href=\"#m5c35631a99\" x=\"284.27958\" y=\"32.201761\" style=\"stroke: #000000; stroke-linejoin: miter\"/>\n     <use xlink:href=\"#m5c35631a99\" x=\"182.82475\" y=\"229.874489\" style=\"stroke: #000000; stroke-linejoin: miter\"/>\n     <use xlink:href=\"#m5c35631a99\" x=\"299.651905\" y=\"203.517745\" style=\"stroke: #000000; stroke-linejoin: miter\"/>\n     <use xlink:href=\"#m5c35631a99\" x=\"358.064631\" y=\"190.339848\" style=\"stroke: #000000; stroke-linejoin: miter\"/>\n    </g>\n   </g>\n   <g id=\"line2d_14\">\n    <path d=\"M 99.816724 190.339848 \nL 97.975051 184.542871 \nL 96.151085 178.754326 \nL 94.362536 172.982647 \nL 92.627112 167.236269 \nL 90.962521 161.523626 \nL 89.386472 155.853151 \nL 87.916673 150.233279 \nL 86.570833 144.672444 \nL 85.36666 139.17908 \nL 84.321862 133.761622 \nL 83.454149 128.428503 \nL 82.781228 123.188157 \nL 82.320808 118.049019 \nL 82.090597 113.019522 \nL 82.108304 108.108102 \nL 82.391638 103.323191 \nL 82.958306 98.673225 \nL 83.826018 94.166636 \nL 85.012482 89.81186 \nL 86.535405 85.617331 \nL 88.412498 81.591482 \nL 90.661467 77.742748 \nL 93.300023 74.079562 \nL 96.345872 70.61036 \nL 99.816724 67.343574 \nL 103.720842 64.287077 \nL 108.028713 61.446492 \nL 112.701377 58.826879 \nL 117.699877 56.433299 \nL 122.985254 54.270811 \nL 128.518548 52.344476 \nL 134.260802 50.659355 \nL 140.173057 49.220508 \nL 146.216355 48.032996 \nL 152.351736 47.101878 \nL 158.540243 46.432216 \nL 164.742916 46.029069 \nL 170.920797 45.897498 \nL 177.034928 46.042564 \nL 183.046349 46.469327 \nL 188.916103 47.182847 \nL 194.605231 48.188185 \nL 200.074774 49.490401 \nL 205.285773 51.094555 \nL 210.19927 53.005709 \nL 214.776307 55.228921 \nL 218.977925 57.769254 \nL 222.765165 60.631767 \nL 226.099068 63.82152 \nL 228.940677 67.343574 \nL 231.264019 71.197367 \nL 233.095065 75.359846 \nL 234.472776 79.802334 \nL 235.436109 84.496157 \nL 236.024023 89.412638 \nL 236.275477 94.523101 \nL 236.22943 99.798872 \nL 235.924839 105.211273 \nL 235.400664 110.73163 \nL 234.695864 116.331267 \nL 233.849397 121.981507 \nL 232.900222 127.653676 \nL 231.887297 133.319096 \nL 230.849581 138.949093 \nL 229.826032 144.514991 \nL 228.855611 149.988114 \nL 227.977274 155.339787 \nL 227.22998 160.541333 \nL 226.652689 165.564076 \nL 226.284359 170.379342 \nL 226.163949 174.958454 \nL 226.330417 179.272736 \nL 226.822722 183.293513 \nL 227.679822 186.992109 \nL 228.940677 190.339848 \nL 230.6348 193.315365 \nL 232.753927 195.92653 \nL 235.28035 198.188525 \nL 238.196358 200.116533 \nL 241.484245 201.725734 \nL 245.126299 203.031309 \nL 249.104814 204.048441 \nL 253.40208 204.792311 \nL 258.000388 205.278101 \nL 262.882029 205.520991 \nL 268.029295 205.536163 \nL 273.424476 205.338799 \nL 279.049864 204.944081 \nL 284.88775 204.367189 \nL 290.920425 203.623305 \nL 297.13018 202.727611 \nL 303.499307 201.695289 \nL 310.010096 200.541519 \nL 316.64484 199.281483 \nL 323.385827 197.930363 \nL 330.215351 196.50334 \nL 337.115703 195.015595 \nL 344.069172 193.482311 \nL 351.058051 191.918668 \n\" clip-path=\"url(#pb4e3227a09)\" style=\"fill: none; stroke: #0000ff; stroke-width: 2; stroke-linecap: square\"/>\n   </g>\n   <g id=\"patch_3\">\n    <path d=\"M 38.482813 239.758125 \nL 38.482813 22.318125 \n\" style=\"fill: none; stroke: #000000; stroke-width: 0.8; stroke-linejoin: miter; stroke-linecap: square\"/>\n   </g>\n   <g id=\"patch_4\">\n    <path d=\"M 373.282813 239.758125 \nL 373.282813 22.318125 \n\" style=\"fill: none; stroke: #000000; stroke-width: 0.8; stroke-linejoin: miter; stroke-linecap: square\"/>\n   </g>\n   <g id=\"patch_5\">\n    <path d=\"M 38.482813 239.758125 \nL 373.282813 239.758125 \n\" style=\"fill: none; stroke: #000000; stroke-width: 0.8; stroke-linejoin: miter; stroke-linecap: square\"/>\n   </g>\n   <g id=\"patch_6\">\n    <path d=\"M 38.482813 22.318125 \nL 373.282813 22.318125 \n\" style=\"fill: none; stroke: #000000; stroke-width: 0.8; stroke-linejoin: miter; stroke-linecap: square\"/>\n   </g>\n   <g id=\"text_13\">\n    <!-- Cubic B-spline curve -->\n    <g transform=\"translate(144.446562 16.318125)scale(0.12 -0.12)\">\n     <defs>\n      <path id=\"DejaVuSans-43\" d=\"M 4122 4306 \nL 4122 3641 \nQ 3803 3938 3442 4084 \nQ 3081 4231 2675 4231 \nQ 1875 4231 1450 3742 \nQ 1025 3253 1025 2328 \nQ 1025 1406 1450 917 \nQ 1875 428 2675 428 \nQ 3081 428 3442 575 \nQ 3803 722 4122 1019 \nL 4122 359 \nQ 3791 134 3420 21 \nQ 3050 -91 2638 -91 \nQ 1578 -91 968 557 \nQ 359 1206 359 2328 \nQ 359 3453 968 4101 \nQ 1578 4750 2638 4750 \nQ 3056 4750 3426 4639 \nQ 3797 4528 4122 4306 \nz\n\" transform=\"scale(0.015625)\"/>\n      <path id=\"DejaVuSans-75\" d=\"M 544 1381 \nL 544 3500 \nL 1119 3500 \nL 1119 1403 \nQ 1119 906 1312 657 \nQ 1506 409 1894 409 \nQ 2359 409 2629 706 \nQ 2900 1003 2900 1516 \nL 2900 3500 \nL 3475 3500 \nL 3475 0 \nL 2900 0 \nL 2900 538 \nQ 2691 219 2414 64 \nQ 2138 -91 1772 -91 \nQ 1169 -91 856 284 \nQ 544 659 544 1381 \nz\nM 1991 3584 \nL 1991 3584 \nz\n\" transform=\"scale(0.015625)\"/>\n      <path id=\"DejaVuSans-62\" d=\"M 3116 1747 \nQ 3116 2381 2855 2742 \nQ 2594 3103 2138 3103 \nQ 1681 3103 1420 2742 \nQ 1159 2381 1159 1747 \nQ 1159 1113 1420 752 \nQ 1681 391 2138 391 \nQ 2594 391 2855 752 \nQ 3116 1113 3116 1747 \nz\nM 1159 2969 \nQ 1341 3281 1617 3432 \nQ 1894 3584 2278 3584 \nQ 2916 3584 3314 3078 \nQ 3713 2572 3713 1747 \nQ 3713 922 3314 415 \nQ 2916 -91 2278 -91 \nQ 1894 -91 1617 61 \nQ 1341 213 1159 525 \nL 1159 0 \nL 581 0 \nL 581 4863 \nL 1159 4863 \nL 1159 2969 \nz\n\" transform=\"scale(0.015625)\"/>\n      <path id=\"DejaVuSans-69\" d=\"M 603 3500 \nL 1178 3500 \nL 1178 0 \nL 603 0 \nL 603 3500 \nz\nM 603 4863 \nL 1178 4863 \nL 1178 4134 \nL 603 4134 \nL 603 4863 \nz\n\" transform=\"scale(0.015625)\"/>\n      <path id=\"DejaVuSans-63\" d=\"M 3122 3366 \nL 3122 2828 \nQ 2878 2963 2633 3030 \nQ 2388 3097 2138 3097 \nQ 1578 3097 1268 2742 \nQ 959 2388 959 1747 \nQ 959 1106 1268 751 \nQ 1578 397 2138 397 \nQ 2388 397 2633 464 \nQ 2878 531 3122 666 \nL 3122 134 \nQ 2881 22 2623 -34 \nQ 2366 -91 2075 -91 \nQ 1284 -91 818 406 \nQ 353 903 353 1747 \nQ 353 2603 823 3093 \nQ 1294 3584 2113 3584 \nQ 2378 3584 2631 3529 \nQ 2884 3475 3122 3366 \nz\n\" transform=\"scale(0.015625)\"/>\n      <path id=\"DejaVuSans-20\" transform=\"scale(0.015625)\"/>\n      <path id=\"DejaVuSans-42\" d=\"M 1259 2228 \nL 1259 519 \nL 2272 519 \nQ 2781 519 3026 730 \nQ 3272 941 3272 1375 \nQ 3272 1813 3026 2020 \nQ 2781 2228 2272 2228 \nL 1259 2228 \nz\nM 1259 4147 \nL 1259 2741 \nL 2194 2741 \nQ 2656 2741 2882 2914 \nQ 3109 3088 3109 3444 \nQ 3109 3797 2882 3972 \nQ 2656 4147 2194 4147 \nL 1259 4147 \nz\nM 628 4666 \nL 2241 4666 \nQ 2963 4666 3353 4366 \nQ 3744 4066 3744 3513 \nQ 3744 3084 3544 2831 \nQ 3344 2578 2956 2516 \nQ 3422 2416 3680 2098 \nQ 3938 1781 3938 1306 \nQ 3938 681 3513 340 \nQ 3088 0 2303 0 \nL 628 0 \nL 628 4666 \nz\n\" transform=\"scale(0.015625)\"/>\n      <path id=\"DejaVuSans-2d\" d=\"M 313 2009 \nL 1997 2009 \nL 1997 1497 \nL 313 1497 \nL 313 2009 \nz\n\" transform=\"scale(0.015625)\"/>\n      <path id=\"DejaVuSans-73\" d=\"M 2834 3397 \nL 2834 2853 \nQ 2591 2978 2328 3040 \nQ 2066 3103 1784 3103 \nQ 1356 3103 1142 2972 \nQ 928 2841 928 2578 \nQ 928 2378 1081 2264 \nQ 1234 2150 1697 2047 \nL 1894 2003 \nQ 2506 1872 2764 1633 \nQ 3022 1394 3022 966 \nQ 3022 478 2636 193 \nQ 2250 -91 1575 -91 \nQ 1294 -91 989 -36 \nQ 684 19 347 128 \nL 347 722 \nQ 666 556 975 473 \nQ 1284 391 1588 391 \nQ 1994 391 2212 530 \nQ 2431 669 2431 922 \nQ 2431 1156 2273 1281 \nQ 2116 1406 1581 1522 \nL 1381 1569 \nQ 847 1681 609 1914 \nQ 372 2147 372 2553 \nQ 372 3047 722 3315 \nQ 1072 3584 1716 3584 \nQ 2034 3584 2315 3537 \nQ 2597 3491 2834 3397 \nz\n\" transform=\"scale(0.015625)\"/>\n      <path id=\"DejaVuSans-70\" d=\"M 1159 525 \nL 1159 -1331 \nL 581 -1331 \nL 581 3500 \nL 1159 3500 \nL 1159 2969 \nQ 1341 3281 1617 3432 \nQ 1894 3584 2278 3584 \nQ 2916 3584 3314 3078 \nQ 3713 2572 3713 1747 \nQ 3713 922 3314 415 \nQ 2916 -91 2278 -91 \nQ 1894 -91 1617 61 \nQ 1341 213 1159 525 \nz\nM 3116 1747 \nQ 3116 2381 2855 2742 \nQ 2594 3103 2138 3103 \nQ 1681 3103 1420 2742 \nQ 1159 2381 1159 1747 \nQ 1159 1113 1420 752 \nQ 1681 391 2138 391 \nQ 2594 391 2855 752 \nQ 3116 1113 3116 1747 \nz\n\" transform=\"scale(0.015625)\"/>\n      <path id=\"DejaVuSans-6c\" d=\"M 603 4863 \nL 1178 4863 \nL 1178 0 \nL 603 0 \nL 603 4863 \nz\n\" transform=\"scale(0.015625)\"/>\n      <path id=\"DejaVuSans-6e\" d=\"M 3513 2113 \nL 3513 0 \nL 2938 0 \nL 2938 2094 \nQ 2938 2591 2744 2837 \nQ 2550 3084 2163 3084 \nQ 1697 3084 1428 2787 \nQ 1159 2491 1159 1978 \nL 1159 0 \nL 581 0 \nL 581 3500 \nL 1159 3500 \nL 1159 2956 \nQ 1366 3272 1645 3428 \nQ 1925 3584 2291 3584 \nQ 2894 3584 3203 3211 \nQ 3513 2838 3513 2113 \nz\n\" transform=\"scale(0.015625)\"/>\n      <path id=\"DejaVuSans-65\" d=\"M 3597 1894 \nL 3597 1613 \nL 953 1613 \nQ 991 1019 1311 708 \nQ 1631 397 2203 397 \nQ 2534 397 2845 478 \nQ 3156 559 3463 722 \nL 3463 178 \nQ 3153 47 2828 -22 \nQ 2503 -91 2169 -91 \nQ 1331 -91 842 396 \nQ 353 884 353 1716 \nQ 353 2575 817 3079 \nQ 1281 3584 2069 3584 \nQ 2775 3584 3186 3129 \nQ 3597 2675 3597 1894 \nz\nM 3022 2063 \nQ 3016 2534 2758 2815 \nQ 2500 3097 2075 3097 \nQ 1594 3097 1305 2825 \nQ 1016 2553 972 2059 \nL 3022 2063 \nz\n\" transform=\"scale(0.015625)\"/>\n      <path id=\"DejaVuSans-72\" d=\"M 2631 2963 \nQ 2534 3019 2420 3045 \nQ 2306 3072 2169 3072 \nQ 1681 3072 1420 2755 \nQ 1159 2438 1159 1844 \nL 1159 0 \nL 581 0 \nL 581 3500 \nL 1159 3500 \nL 1159 2956 \nQ 1341 3275 1631 3429 \nQ 1922 3584 2338 3584 \nQ 2397 3584 2469 3576 \nQ 2541 3569 2628 3553 \nL 2631 2963 \nz\n\" transform=\"scale(0.015625)\"/>\n      <path id=\"DejaVuSans-76\" d=\"M 191 3500 \nL 800 3500 \nL 1894 563 \nL 2988 3500 \nL 3597 3500 \nL 2284 0 \nL 1503 0 \nL 191 3500 \nz\n\" transform=\"scale(0.015625)\"/>\n     </defs>\n     <use xlink:href=\"#DejaVuSans-43\"/>\n     <use xlink:href=\"#DejaVuSans-75\" x=\"69.824219\"/>\n     <use xlink:href=\"#DejaVuSans-62\" x=\"133.203125\"/>\n     <use xlink:href=\"#DejaVuSans-69\" x=\"196.679688\"/>\n     <use xlink:href=\"#DejaVuSans-63\" x=\"224.462891\"/>\n     <use xlink:href=\"#DejaVuSans-20\" x=\"279.443359\"/>\n     <use xlink:href=\"#DejaVuSans-42\" x=\"311.230469\"/>\n     <use xlink:href=\"#DejaVuSans-2d\" x=\"379.833984\"/>\n     <use xlink:href=\"#DejaVuSans-73\" x=\"415.917969\"/>\n     <use xlink:href=\"#DejaVuSans-70\" x=\"468.017578\"/>\n     <use xlink:href=\"#DejaVuSans-6c\" x=\"531.494141\"/>\n     <use xlink:href=\"#DejaVuSans-69\" x=\"559.277344\"/>\n     <use xlink:href=\"#DejaVuSans-6e\" x=\"587.060547\"/>\n     <use xlink:href=\"#DejaVuSans-65\" x=\"650.439453\"/>\n     <use xlink:href=\"#DejaVuSans-20\" x=\"711.962891\"/>\n     <use xlink:href=\"#DejaVuSans-63\" x=\"743.75\"/>\n     <use xlink:href=\"#DejaVuSans-75\" x=\"798.730469\"/>\n     <use xlink:href=\"#DejaVuSans-72\" x=\"862.109375\"/>\n     <use xlink:href=\"#DejaVuSans-76\" x=\"903.222656\"/>\n     <use xlink:href=\"#DejaVuSans-65\" x=\"962.402344\"/>\n    </g>\n   </g>\n   <g id=\"legend_1\">\n    <g id=\"patch_7\">\n     <path d=\"M 255.675 154.555313 \nL 366.282812 154.555313 \nQ 368.282812 154.555313 368.282812 152.555313 \nL 368.282812 109.520938 \nQ 368.282812 107.520938 366.282812 107.520938 \nL 255.675 107.520938 \nQ 253.675 107.520938 253.675 109.520938 \nL 253.675 152.555313 \nQ 253.675 154.555313 255.675 154.555313 \nz\n\" style=\"fill: #ffffff; opacity: 0.8; stroke: #cccccc; stroke-linejoin: miter\"/>\n    </g>\n    <g id=\"line2d_15\">\n     <path d=\"M 257.675 115.619375 \nL 267.675 115.619375 \nL 277.675 115.619375 \n\" style=\"fill: none; stroke-dasharray: 5.55,2.4; stroke-dashoffset: 0; stroke: #000000; stroke-width: 1.5\"/>\n     <g>\n      <use xlink:href=\"#m5c35631a99\" x=\"267.675\" y=\"115.619375\" style=\"stroke: #000000; stroke-linejoin: miter\"/>\n     </g>\n    </g>\n    <g id=\"text_14\">\n     <!-- Control Polygon -->\n     <g transform=\"translate(285.675 119.119375)scale(0.1 -0.1)\">\n      <defs>\n       <path id=\"DejaVuSans-6f\" d=\"M 1959 3097 \nQ 1497 3097 1228 2736 \nQ 959 2375 959 1747 \nQ 959 1119 1226 758 \nQ 1494 397 1959 397 \nQ 2419 397 2687 759 \nQ 2956 1122 2956 1747 \nQ 2956 2369 2687 2733 \nQ 2419 3097 1959 3097 \nz\nM 1959 3584 \nQ 2709 3584 3137 3096 \nQ 3566 2609 3566 1747 \nQ 3566 888 3137 398 \nQ 2709 -91 1959 -91 \nQ 1206 -91 779 398 \nQ 353 888 353 1747 \nQ 353 2609 779 3096 \nQ 1206 3584 1959 3584 \nz\n\" transform=\"scale(0.015625)\"/>\n       <path id=\"DejaVuSans-74\" d=\"M 1172 4494 \nL 1172 3500 \nL 2356 3500 \nL 2356 3053 \nL 1172 3053 \nL 1172 1153 \nQ 1172 725 1289 603 \nQ 1406 481 1766 481 \nL 2356 481 \nL 2356 0 \nL 1766 0 \nQ 1100 0 847 248 \nQ 594 497 594 1153 \nL 594 3053 \nL 172 3053 \nL 172 3500 \nL 594 3500 \nL 594 4494 \nL 1172 4494 \nz\n\" transform=\"scale(0.015625)\"/>\n       <path id=\"DejaVuSans-50\" d=\"M 1259 4147 \nL 1259 2394 \nL 2053 2394 \nQ 2494 2394 2734 2622 \nQ 2975 2850 2975 3272 \nQ 2975 3691 2734 3919 \nQ 2494 4147 2053 4147 \nL 1259 4147 \nz\nM 628 4666 \nL 2053 4666 \nQ 2838 4666 3239 4311 \nQ 3641 3956 3641 3272 \nQ 3641 2581 3239 2228 \nQ 2838 1875 2053 1875 \nL 1259 1875 \nL 1259 0 \nL 628 0 \nL 628 4666 \nz\n\" transform=\"scale(0.015625)\"/>\n       <path id=\"DejaVuSans-79\" d=\"M 2059 -325 \nQ 1816 -950 1584 -1140 \nQ 1353 -1331 966 -1331 \nL 506 -1331 \nL 506 -850 \nL 844 -850 \nQ 1081 -850 1212 -737 \nQ 1344 -625 1503 -206 \nL 1606 56 \nL 191 3500 \nL 800 3500 \nL 1894 763 \nL 2988 3500 \nL 3597 3500 \nL 2059 -325 \nz\n\" transform=\"scale(0.015625)\"/>\n       <path id=\"DejaVuSans-67\" d=\"M 2906 1791 \nQ 2906 2416 2648 2759 \nQ 2391 3103 1925 3103 \nQ 1463 3103 1205 2759 \nQ 947 2416 947 1791 \nQ 947 1169 1205 825 \nQ 1463 481 1925 481 \nQ 2391 481 2648 825 \nQ 2906 1169 2906 1791 \nz\nM 3481 434 \nQ 3481 -459 3084 -895 \nQ 2688 -1331 1869 -1331 \nQ 1566 -1331 1297 -1286 \nQ 1028 -1241 775 -1147 \nL 775 -588 \nQ 1028 -725 1275 -790 \nQ 1522 -856 1778 -856 \nQ 2344 -856 2625 -561 \nQ 2906 -266 2906 331 \nL 2906 616 \nQ 2728 306 2450 153 \nQ 2172 0 1784 0 \nQ 1141 0 747 490 \nQ 353 981 353 1791 \nQ 353 2603 747 3093 \nQ 1141 3584 1784 3584 \nQ 2172 3584 2450 3431 \nQ 2728 3278 2906 2969 \nL 2906 3500 \nL 3481 3500 \nL 3481 434 \nz\n\" transform=\"scale(0.015625)\"/>\n      </defs>\n      <use xlink:href=\"#DejaVuSans-43\"/>\n      <use xlink:href=\"#DejaVuSans-6f\" x=\"69.824219\"/>\n      <use xlink:href=\"#DejaVuSans-6e\" x=\"131.005859\"/>\n      <use xlink:href=\"#DejaVuSans-74\" x=\"194.384766\"/>\n      <use xlink:href=\"#DejaVuSans-72\" x=\"233.59375\"/>\n      <use xlink:href=\"#DejaVuSans-6f\" x=\"272.457031\"/>\n      <use xlink:href=\"#DejaVuSans-6c\" x=\"333.638672\"/>\n      <use xlink:href=\"#DejaVuSans-20\" x=\"361.421875\"/>\n      <use xlink:href=\"#DejaVuSans-50\" x=\"393.208984\"/>\n      <use xlink:href=\"#DejaVuSans-6f\" x=\"449.886719\"/>\n      <use xlink:href=\"#DejaVuSans-6c\" x=\"511.068359\"/>\n      <use xlink:href=\"#DejaVuSans-79\" x=\"538.851562\"/>\n      <use xlink:href=\"#DejaVuSans-67\" x=\"598.03125\"/>\n      <use xlink:href=\"#DejaVuSans-6f\" x=\"661.507812\"/>\n      <use xlink:href=\"#DejaVuSans-6e\" x=\"722.689453\"/>\n     </g>\n    </g>\n    <g id=\"PathCollection_2\">\n     <g>\n      <use xlink:href=\"#m5393b7f237\" x=\"267.675\" y=\"131.1725\" style=\"fill: #ff0000; stroke: #ff0000\"/>\n     </g>\n    </g>\n    <g id=\"text_15\">\n     <!-- Data Points -->\n     <g transform=\"translate(285.675 133.7975)scale(0.1 -0.1)\">\n      <defs>\n       <path id=\"DejaVuSans-44\" d=\"M 1259 4147 \nL 1259 519 \nL 2022 519 \nQ 2988 519 3436 956 \nQ 3884 1394 3884 2338 \nQ 3884 3275 3436 3711 \nQ 2988 4147 2022 4147 \nL 1259 4147 \nz\nM 628 4666 \nL 1925 4666 \nQ 3281 4666 3915 4102 \nQ 4550 3538 4550 2338 \nQ 4550 1131 3912 565 \nQ 3275 0 1925 0 \nL 628 0 \nL 628 4666 \nz\n\" transform=\"scale(0.015625)\"/>\n       <path id=\"DejaVuSans-61\" d=\"M 2194 1759 \nQ 1497 1759 1228 1600 \nQ 959 1441 959 1056 \nQ 959 750 1161 570 \nQ 1363 391 1709 391 \nQ 2188 391 2477 730 \nQ 2766 1069 2766 1631 \nL 2766 1759 \nL 2194 1759 \nz\nM 3341 1997 \nL 3341 0 \nL 2766 0 \nL 2766 531 \nQ 2569 213 2275 61 \nQ 1981 -91 1556 -91 \nQ 1019 -91 701 211 \nQ 384 513 384 1019 \nQ 384 1609 779 1909 \nQ 1175 2209 1959 2209 \nL 2766 2209 \nL 2766 2266 \nQ 2766 2663 2505 2880 \nQ 2244 3097 1772 3097 \nQ 1472 3097 1187 3025 \nQ 903 2953 641 2809 \nL 641 3341 \nQ 956 3463 1253 3523 \nQ 1550 3584 1831 3584 \nQ 2591 3584 2966 3190 \nQ 3341 2797 3341 1997 \nz\n\" transform=\"scale(0.015625)\"/>\n      </defs>\n      <use xlink:href=\"#DejaVuSans-44\"/>\n      <use xlink:href=\"#DejaVuSans-61\" x=\"77.001953\"/>\n      <use xlink:href=\"#DejaVuSans-74\" x=\"138.28125\"/>\n      <use xlink:href=\"#DejaVuSans-61\" x=\"177.490234\"/>\n      <use xlink:href=\"#DejaVuSans-20\" x=\"238.769531\"/>\n      <use xlink:href=\"#DejaVuSans-50\" x=\"270.556641\"/>\n      <use xlink:href=\"#DejaVuSans-6f\" x=\"327.234375\"/>\n      <use xlink:href=\"#DejaVuSans-69\" x=\"388.416016\"/>\n      <use xlink:href=\"#DejaVuSans-6e\" x=\"416.199219\"/>\n      <use xlink:href=\"#DejaVuSans-74\" x=\"479.578125\"/>\n      <use xlink:href=\"#DejaVuSans-73\" x=\"518.787109\"/>\n     </g>\n    </g>\n    <g id=\"line2d_16\">\n     <path d=\"M 257.675 144.975625 \nL 267.675 144.975625 \nL 277.675 144.975625 \n\" style=\"fill: none; stroke: #0000ff; stroke-width: 2; stroke-linecap: square\"/>\n    </g>\n    <g id=\"text_16\">\n     <!-- B-spline curve -->\n     <g transform=\"translate(285.675 148.475625)scale(0.1 -0.1)\">\n      <use xlink:href=\"#DejaVuSans-42\"/>\n      <use xlink:href=\"#DejaVuSans-2d\" x=\"68.603516\"/>\n      <use xlink:href=\"#DejaVuSans-73\" x=\"104.6875\"/>\n      <use xlink:href=\"#DejaVuSans-70\" x=\"156.787109\"/>\n      <use xlink:href=\"#DejaVuSans-6c\" x=\"220.263672\"/>\n      <use xlink:href=\"#DejaVuSans-69\" x=\"248.046875\"/>\n      <use xlink:href=\"#DejaVuSans-6e\" x=\"275.830078\"/>\n      <use xlink:href=\"#DejaVuSans-65\" x=\"339.208984\"/>\n      <use xlink:href=\"#DejaVuSans-20\" x=\"400.732422\"/>\n      <use xlink:href=\"#DejaVuSans-63\" x=\"432.519531\"/>\n      <use xlink:href=\"#DejaVuSans-75\" x=\"487.5\"/>\n      <use xlink:href=\"#DejaVuSans-72\" x=\"550.878906\"/>\n      <use xlink:href=\"#DejaVuSans-76\" x=\"591.992188\"/>\n      <use xlink:href=\"#DejaVuSans-65\" x=\"651.171875\"/>\n     </g>\n    </g>\n   </g>\n  </g>\n </g>\n <defs>\n  <clipPath id=\"pb4e3227a09\">\n   <rect x=\"38.482813\" y=\"22.318125\" width=\"334.8\" height=\"217.44\"/>\n  </clipPath>\n </defs>\n</svg>\n",
      "text/plain": [
       "<Figure size 432x288 with 1 Axes>"
      ]
     },
     "metadata": {
      "needs_background": "light"
     },
     "output_type": "display_data"
    }
   ],
   "source": [
    "import matplotlib.pyplot as plt\n",
    "plt.plot(P[:, 0], P[:, 1], '--k', label='Control Polygon', marker='s', markersize=5)\n",
    "plt.scatter(x=x, y=y, c='r', s=80, label='Data Points')\n",
    "plt.plot(curve[:, 0], curve[:, 1], 'b', linewidth=2, label='B-spline curve')\n",
    "plt.legend()\n",
    "plt.title('Cubic B-spline curve')\n",
    "plt.show()"
   ]
  }
 ],
 "metadata": {
  "interpreter": {
   "hash": "31f2aee4e71d21fbe5cf8b01ff0e069b9275f58929596ceb00d14d90e3e16cd6"
  },
  "kernelspec": {
   "display_name": "Python 3.8.9 64-bit",
   "language": "python",
   "name": "python3"
  },
  "language_info": {
   "codemirror_mode": {
    "name": "ipython",
    "version": 3
   },
   "file_extension": ".py",
   "mimetype": "text/x-python",
   "name": "python",
   "nbconvert_exporter": "python",
   "pygments_lexer": "ipython3",
   "version": "3.8.9"
  },
  "orig_nbformat": 4
 },
 "nbformat": 4,
 "nbformat_minor": 2
}
